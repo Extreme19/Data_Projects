{
 "cells": [
  {
   "cell_type": "markdown",
   "id": "significant-pollution",
   "metadata": {},
   "source": [
    "Objective:\n",
    "\n",
    "Statistical analysis of business data. Explore the dataset and extract insights from the data. The idea is for you to get comfortable with doing statistical analysis in Python.\n",
    "\n",
    "You are expected to perform the statistical analysis to answer the following questions:\n",
    "\n",
    "1. Explore the dataset and extract insights using Exploratory Data Analysis.\n",
    "2. Do the users spend more time on the new landing page than the old landing page?\n",
    "3. Is the conversion rate (the proportion of users who visit the landing page and get converted) for the new page greater than the conversion rate for the old page?\n",
    "4. Does the converted status depend on the preferred language? [Hint: Create a contingency table using the pandas.crosstab() function]\n",
    "5. Is the mean time spent on the new page same for the different language users?"
   ]
  },
  {
   "cell_type": "markdown",
   "id": "intermediate-preference",
   "metadata": {},
   "source": [
    "Data Dictionary:\n",
    "\n",
    "1. user_id - This represents the user ID of the person visiting the website.\n",
    "2. group - This represents whether the user belongs to the first group (control) or the second group (treatment).\n",
    "3. landing_page - This represents whether the landing page is new or old.\n",
    "4. time_spent_on_the_page - This represents the time (in minutes) spent by the user on the landing page.\n",
    "5. converted - This represents whether the user gets converted to a subscriber of the news portal or not.\n",
    "6. language_preferred - This represents the language chosen by the user to view the landing page."
   ]
  },
  {
   "cell_type": "code",
   "execution_count": 270,
   "id": "significant-victorian",
   "metadata": {},
   "outputs": [],
   "source": [
    "#imports\n",
    "import pandas as pd\n",
    "import numpy as np\n",
    "import seaborn as sns\n",
    "import matplotlib.pyplot as plt\n",
    "%matplotlib inline"
   ]
  },
  {
   "cell_type": "code",
   "execution_count": 271,
   "id": "turned-boulder",
   "metadata": {},
   "outputs": [],
   "source": [
    "#loading the dataset using pandas\n",
    "data = pd.read_csv(\"C:\\\\DataScience\\\\Fisayo\\\\abtest.csv\") #to be edited based on current data folder"
   ]
  },
  {
   "cell_type": "markdown",
   "id": "fatal-trailer",
   "metadata": {},
   "source": [
    "1. Explore the dataset and extract insights using Exploratory Data Analysis."
   ]
  },
  {
   "cell_type": "code",
   "execution_count": 272,
   "id": "russian-season",
   "metadata": {},
   "outputs": [
    {
     "data": {
      "text/plain": [
       "user_id                     int64\n",
       "group                      object\n",
       "landing_page               object\n",
       "time_spent_on_the_page    float64\n",
       "converted                  object\n",
       "language_preferred         object\n",
       "dtype: object"
      ]
     },
     "execution_count": 272,
     "metadata": {},
     "output_type": "execute_result"
    }
   ],
   "source": [
    "#To check the data type\n",
    "data.dtypes"
   ]
  },
  {
   "cell_type": "code",
   "execution_count": 273,
   "id": "norman-special",
   "metadata": {},
   "outputs": [
    {
     "data": {
      "text/plain": [
       "(100, 6)"
      ]
     },
     "execution_count": 273,
     "metadata": {},
     "output_type": "execute_result"
    }
   ],
   "source": [
    "#to check the data shape\n",
    "data.shape"
   ]
  },
  {
   "cell_type": "code",
   "execution_count": 274,
   "id": "meaningful-beijing",
   "metadata": {},
   "outputs": [
    {
     "data": {
      "text/plain": [
       "user_id                   100\n",
       "group                     100\n",
       "landing_page              100\n",
       "time_spent_on_the_page    100\n",
       "converted                 100\n",
       "language_preferred        100\n",
       "dtype: int64"
      ]
     },
     "execution_count": 274,
     "metadata": {},
     "output_type": "execute_result"
    }
   ],
   "source": [
    "#To check for missing values\n",
    "data.count()"
   ]
  },
  {
   "cell_type": "code",
   "execution_count": 275,
   "id": "stainless-advance",
   "metadata": {},
   "outputs": [
    {
     "data": {
      "text/plain": [
       "Spanish    34\n",
       "French     34\n",
       "English    32\n",
       "Name: language_preferred, dtype: int64"
      ]
     },
     "execution_count": 275,
     "metadata": {},
     "output_type": "execute_result"
    }
   ],
   "source": [
    "#To ensure all value counts adds up to the total (100)\n",
    "data[\"language_preferred\"].value_counts()"
   ]
  },
  {
   "cell_type": "markdown",
   "id": "innovative-stanley",
   "metadata": {},
   "source": [
    "There are no missing values"
   ]
  },
  {
   "cell_type": "code",
   "execution_count": 276,
   "id": "differential-phenomenon",
   "metadata": {},
   "outputs": [
    {
     "data": {
      "text/plain": [
       "user_id                   0\n",
       "group                     0\n",
       "landing_page              0\n",
       "time_spent_on_the_page    0\n",
       "converted                 0\n",
       "language_preferred        0\n",
       "dtype: int64"
      ]
     },
     "execution_count": 276,
     "metadata": {},
     "output_type": "execute_result"
    }
   ],
   "source": [
    "#To check for null values\n",
    "data.apply(lambda x: sum(x.isnull()),axis=0)"
   ]
  },
  {
   "cell_type": "code",
   "execution_count": 277,
   "id": "cross-booth",
   "metadata": {},
   "outputs": [
    {
     "data": {
      "text/plain": [
       "count    100.000000\n",
       "mean       5.377800\n",
       "std        2.378166\n",
       "min        0.190000\n",
       "25%        3.880000\n",
       "50%        5.415000\n",
       "75%        7.022500\n",
       "max       10.710000\n",
       "Name: time_spent_on_the_page, dtype: float64"
      ]
     },
     "execution_count": 277,
     "metadata": {},
     "output_type": "execute_result"
    }
   ],
   "source": [
    "#To check for data statistics of the relevant numerical variable (time spent)\n",
    "data[\"time_spent_on_the_page\"].describe()"
   ]
  },
  {
   "cell_type": "code",
   "execution_count": 278,
   "id": "confirmed-balloon",
   "metadata": {},
   "outputs": [
    {
     "data": {
      "image/png": "[encoded data removed]",
      "text/plain": [
       "<Figure size 720x360 with 1 Axes>"
      ]
     },
     "metadata": {
      "needs_background": "light"
     },
     "output_type": "display_data"
    }
   ],
   "source": [
    "#To make a visual statistical summary for time_spent_on_the_page using boxplot.\n",
    "plt.figure(figsize = (10,5))\n",
    "sns.boxplot(x= data['time_spent_on_the_page'])\n",
    "plt.xlabel(\"Time spent on the page\")\n",
    "plt.show()\n"
   ]
  },
  {
   "cell_type": "code",
   "execution_count": 279,
   "id": "patient-lithuania",
   "metadata": {},
   "outputs": [
    {
     "data": {
      "image/png": "[encoded data removed]",
      "text/plain": [
       "<Figure size 432x288 with 1 Axes>"
      ]
     },
     "metadata": {
      "needs_background": "light"
     },
     "output_type": "display_data"
    }
   ],
   "source": [
    "#To check the distribution and detect outliers.\n",
    "data[\"time_spent_on_the_page\"].hist(bins=20)\n",
    "plt.show()"
   ]
  },
  {
   "cell_type": "markdown",
   "id": "computational-poland",
   "metadata": {},
   "source": [
    "The time_spent_on_the_page distribution seems fairly normal"
   ]
  },
  {
   "cell_type": "code",
   "execution_count": 281,
   "id": "advisory-screw",
   "metadata": {},
   "outputs": [
    {
     "data": {
      "image/png": "[encoded data removed]",
      "text/plain": [
       "<Figure size 720x360 with 1 Axes>"
      ]
     },
     "metadata": {
      "needs_background": "light"
     },
     "output_type": "display_data"
    }
   ],
   "source": [
    "#To verify the groups and the distribution.\n",
    "plt.figure(figsize = (10,5))\n",
    "sns.countplot(x=data.group)\n",
    "plt.show()"
   ]
  },
  {
   "cell_type": "code",
   "execution_count": 282,
   "id": "acknowledged-surveillance",
   "metadata": {},
   "outputs": [
    {
     "data": {
      "image/png": "[encoded data removed]",
      "text/plain": [
       "<Figure size 720x360 with 1 Axes>"
      ]
     },
     "metadata": {
      "needs_background": "light"
     },
     "output_type": "display_data"
    }
   ],
   "source": [
    "#To verify the languages and their distribution.\n",
    "plt.figure(figsize = (10,5))\n",
    "sns.countplot(x=data.language_preferred)\n",
    "plt.show()"
   ]
  },
  {
   "cell_type": "code",
   "execution_count": 283,
   "id": "dated-fetish",
   "metadata": {},
   "outputs": [
    {
     "data": {
      "image/png": "[encoded data removed]",
      "text/plain": [
       "<Figure size 720x360 with 1 Axes>"
      ]
     },
     "metadata": {
      "needs_background": "light"
     },
     "output_type": "display_data"
    }
   ],
   "source": [
    "#To verify the landing pages and their distribution.\n",
    "plt.figure(figsize = (10,5))\n",
    "sns.countplot(x= data.landing_page)\n",
    "plt.show()"
   ]
  },
  {
   "cell_type": "markdown",
   "id": "fundamental-assistant",
   "metadata": {},
   "source": [
    "From the Exploratory Data Analysis, the average time spent on the we site is 5.377800 with a standard deviation of 2.38 and an Interquartile range of 3.2. The data is also in good shape and does not require transformation."
   ]
  },
  {
   "cell_type": "markdown",
   "id": "revised-speed",
   "metadata": {},
   "source": [
    "-------------------------------------------------------------------------------"
   ]
  },
  {
   "cell_type": "markdown",
   "id": "selected-fancy",
   "metadata": {},
   "source": [
    "2. Do the users spend more time on the new landing page than the old landing page?"
   ]
  },
  {
   "cell_type": "code",
   "execution_count": 284,
   "id": "boring-daisy",
   "metadata": {
    "scrolled": true
   },
   "outputs": [
    {
     "data": {
      "image/png": "[encoded data removed]",
      "text/plain": [
       "<Figure size 720x432 with 1 Axes>"
      ]
     },
     "metadata": {
      "needs_background": "light"
     },
     "output_type": "display_data"
    }
   ],
   "source": [
    "#Checking the time spent on each landing page\n",
    "plt.figure(figsize = (10,6))\n",
    "sns.barplot( x= \"landing_page\",y=\"time_spent_on_the_page\",data=data)\n",
    "plt.xlabel(\"Landing Page\")\n",
    "plt.ylabel(\"Preferred Language\")\n",
    "plt.show()"
   ]
  },
  {
   "cell_type": "markdown",
   "id": "unsigned-attraction",
   "metadata": {},
   "source": [
    "As seen from the above plot, the users spends more time on the new landing page than they do on the old landing page"
   ]
  },
  {
   "cell_type": "markdown",
   "id": "seasonal-deposit",
   "metadata": {},
   "source": [
    "-------------------------------------------------------------------------------"
   ]
  },
  {
   "cell_type": "markdown",
   "id": "elect-paste",
   "metadata": {},
   "source": [
    "3. Is the conversion rate (the proportion of users who visit the landing page and get converted) for the new page greater than the conversion rate for the old page?"
   ]
  },
  {
   "cell_type": "code",
   "execution_count": 285,
   "id": "gross-thesaurus",
   "metadata": {},
   "outputs": [],
   "source": [
    "#To split the A/B test data into two. The old landing page and the ne landing page\n",
    "old_page = data[data[\"landing_page\"]==\"old\"]\n",
    "new_page = data[data[\"landing_page\"]==\"new\"]\n"
   ]
  },
  {
   "cell_type": "code",
   "execution_count": 286,
   "id": "equipped-payday",
   "metadata": {},
   "outputs": [],
   "source": [
    "#To count how many many conversions were recorded from each landing page\n",
    "converted_old_page = old_page[old_page[\"converted\"]==\"yes\"].count(axis = 0)[\"converted\"]\n",
    "converted_new_page = new_page[new_page[\"converted\"]==\"yes\"].count(axis = 0)[\"converted\"]\n"
   ]
  },
  {
   "cell_type": "code",
   "execution_count": 287,
   "id": "seventh-mortgage",
   "metadata": {},
   "outputs": [],
   "source": [
    "'''To calculate the conversion rate with respect to the number of users who visited each page.\n",
    "Then represent the conversion rate in percentage(%)'''\n",
    "\n",
    "conversion_rate_old= (converted_old_page/50)*100\n",
    "conversion_rate_new= (converted_new_page/50)*100\n",
    "\n",
    "#creating a dataframe to combine both conversion rates for easy tabulation\n",
    "conversion_rate_data = pd.DataFrame({\"Page\":[\"old page\",\"new page\"],\n",
    "                    \"Conversion Rate (%)\":[conversion_rate_old,conversion_rate_new]})"
   ]
  },
  {
   "cell_type": "code",
   "execution_count": 288,
   "id": "crucial-lawsuit",
   "metadata": {},
   "outputs": [
    {
     "data": {
      "text/html": [
       "<div>\n",
       "<style scoped>\n",
       "    .dataframe tbody tr th:only-of-type {\n",
       "        vertical-align: middle;\n",
       "    }\n",
       "\n",
       "    .dataframe tbody tr th {\n",
       "        vertical-align: top;\n",
       "    }\n",
       "\n",
       "    .dataframe thead th {\n",
       "        text-align: right;\n",
       "    }\n",
       "</style>\n",
       "<table border=\"1\" class=\"dataframe\">\n",
       "  <thead>\n",
       "    <tr style=\"text-align: right;\">\n",
       "      <th></th>\n",
       "      <th>Page</th>\n",
       "      <th>Conversion Rate (%)</th>\n",
       "    </tr>\n",
       "  </thead>\n",
       "  <tbody>\n",
       "    <tr>\n",
       "      <th>0</th>\n",
       "      <td>old page</td>\n",
       "      <td>42.0</td>\n",
       "    </tr>\n",
       "    <tr>\n",
       "      <th>1</th>\n",
       "      <td>new page</td>\n",
       "      <td>66.0</td>\n",
       "    </tr>\n",
       "  </tbody>\n",
       "</table>\n",
       "</div>"
      ],
      "text/plain": [
       "       Page  Conversion Rate (%)\n",
       "0  old page                 42.0\n",
       "1  new page                 66.0"
      ]
     },
     "execution_count": 288,
     "metadata": {},
     "output_type": "execute_result"
    }
   ],
   "source": [
    "#visualize the table\n",
    "conversion_rate_data\n"
   ]
  },
  {
   "cell_type": "markdown",
   "id": "silent-lounge",
   "metadata": {},
   "source": [
    "From the Table above, it is seen that the conversion rate for the new page is greater than the conversion rate recorded for the old page"
   ]
  },
  {
   "cell_type": "markdown",
   "id": "crazy-recruitment",
   "metadata": {},
   "source": [
    "-------------------------------------------------------------------------------"
   ]
  },
  {
   "cell_type": "markdown",
   "id": "immune-handbook",
   "metadata": {},
   "source": [
    "4. Does the converted status depend on the preferred language? [Hint: Create a contingency table using the pandas.crosstab() function]"
   ]
  },
  {
   "cell_type": "code",
   "execution_count": 289,
   "id": "chronic-bicycle",
   "metadata": {},
   "outputs": [],
   "source": [
    "#using the crosstab() function to create the contigency table.\n",
    "contigency = pd.crosstab(data[\"language_preferred\"],data[\"converted\"])"
   ]
  },
  {
   "cell_type": "code",
   "execution_count": 290,
   "id": "complicated-hello",
   "metadata": {},
   "outputs": [
    {
     "data": {
      "image/png": "[encoded data removed]",
      "text/plain": [
       "<Figure size 720x432 with 2 Axes>"
      ]
     },
     "metadata": {
      "needs_background": "light"
     },
     "output_type": "display_data"
    }
   ],
   "source": [
    "#using a heatmap to visualize the output the of the contigency table\n",
    "plt.figure(figsize = (10,6))\n",
    "sns.heatmap(contigency, cmap=\"rocket_r\", annot = True)\n",
    "plt.xlabel(\"Conversion Status\")\n",
    "plt.ylabel(\"Preferred Language\")\n",
    "plt.show()"
   ]
  },
  {
   "cell_type": "markdown",
   "id": "wooden-national",
   "metadata": {},
   "source": [
    "As seen from the heat map above, the conversion status quite strongly depends on the language used, with English having the highest conversion status and lower non-conversion status. It is safe to conclude that, English appears to be the most preferred language while French is the least preferred."
   ]
  },
  {
   "cell_type": "code",
   "execution_count": 292,
   "id": "third-palestine",
   "metadata": {},
   "outputs": [
    {
     "data": {
      "text/html": [
       "<div>\n",
       "<style scoped>\n",
       "    .dataframe tbody tr th:only-of-type {\n",
       "        vertical-align: middle;\n",
       "    }\n",
       "\n",
       "    .dataframe tbody tr th {\n",
       "        vertical-align: top;\n",
       "    }\n",
       "\n",
       "    .dataframe thead th {\n",
       "        text-align: right;\n",
       "    }\n",
       "</style>\n",
       "<table border=\"1\" class=\"dataframe\">\n",
       "  <thead>\n",
       "    <tr style=\"text-align: right;\">\n",
       "      <th>converted</th>\n",
       "      <th>no</th>\n",
       "      <th>yes</th>\n",
       "    </tr>\n",
       "    <tr>\n",
       "      <th>language_preferred</th>\n",
       "      <th></th>\n",
       "      <th></th>\n",
       "    </tr>\n",
       "  </thead>\n",
       "  <tbody>\n",
       "    <tr>\n",
       "      <th>English</th>\n",
       "      <td>11</td>\n",
       "      <td>21</td>\n",
       "    </tr>\n",
       "    <tr>\n",
       "      <th>French</th>\n",
       "      <td>19</td>\n",
       "      <td>15</td>\n",
       "    </tr>\n",
       "    <tr>\n",
       "      <th>Spanish</th>\n",
       "      <td>16</td>\n",
       "      <td>18</td>\n",
       "    </tr>\n",
       "  </tbody>\n",
       "</table>\n",
       "</div>"
      ],
      "text/plain": [
       "converted           no  yes\n",
       "language_preferred         \n",
       "English             11   21\n",
       "French              19   15\n",
       "Spanish             16   18"
      ]
     },
     "execution_count": 292,
     "metadata": {},
     "output_type": "execute_result"
    }
   ],
   "source": [
    "#To view the tabulated result\n",
    "contigency"
   ]
  },
  {
   "cell_type": "markdown",
   "id": "speaking-bench",
   "metadata": {},
   "source": [
    "-------------------------------------------------------------------------------"
   ]
  },
  {
   "cell_type": "markdown",
   "id": "thirty-turkey",
   "metadata": {},
   "source": [
    "5. Is the mean time spent on the new page same for the different language users?"
   ]
  },
  {
   "cell_type": "code",
   "execution_count": 293,
   "id": "marked-proceeding",
   "metadata": {},
   "outputs": [],
   "source": [
    "#Using crosstab() to find the mean time spent on the landing pages\n",
    "mean_time = pd.crosstab(data[\"language_preferred\"],data[\"landing_page\"],\n",
    "                   values=data[\"time_spent_on_the_page\"],\n",
    "                   aggfunc = np.mean)"
   ]
  },
  {
   "cell_type": "code",
   "execution_count": 294,
   "id": "fantastic-warren",
   "metadata": {},
   "outputs": [
    {
     "data": {
      "text/html": [
       "<div>\n",
       "<style scoped>\n",
       "    .dataframe tbody tr th:only-of-type {\n",
       "        vertical-align: middle;\n",
       "    }\n",
       "\n",
       "    .dataframe tbody tr th {\n",
       "        vertical-align: top;\n",
       "    }\n",
       "\n",
       "    .dataframe thead th {\n",
       "        text-align: right;\n",
       "    }\n",
       "</style>\n",
       "<table border=\"1\" class=\"dataframe\">\n",
       "  <thead>\n",
       "    <tr style=\"text-align: right;\">\n",
       "      <th>landing_page</th>\n",
       "      <th>new</th>\n",
       "    </tr>\n",
       "    <tr>\n",
       "      <th>language_preferred</th>\n",
       "      <th></th>\n",
       "    </tr>\n",
       "  </thead>\n",
       "  <tbody>\n",
       "    <tr>\n",
       "      <th>English</th>\n",
       "      <td>6.663750</td>\n",
       "    </tr>\n",
       "    <tr>\n",
       "      <th>French</th>\n",
       "      <td>6.196471</td>\n",
       "    </tr>\n",
       "    <tr>\n",
       "      <th>Spanish</th>\n",
       "      <td>5.835294</td>\n",
       "    </tr>\n",
       "  </tbody>\n",
       "</table>\n",
       "</div>"
      ],
      "text/plain": [
       "landing_page             new\n",
       "language_preferred          \n",
       "English             6.663750\n",
       "French              6.196471\n",
       "Spanish             5.835294"
      ]
     },
     "execution_count": 294,
     "metadata": {},
     "output_type": "execute_result"
    }
   ],
   "source": [
    "#To view the table for the mean time spent on the new landing page by the different language users\n",
    "mean_time[[\"new\"]]"
   ]
  },
  {
   "cell_type": "markdown",
   "id": "equipped-toronto",
   "metadata": {},
   "source": [
    "From the above table, it is clear that the mean time spent on the new landing page is not the same for the different language users."
   ]
  },
  {
   "cell_type": "markdown",
   "id": "experienced-integral",
   "metadata": {},
   "source": [
    "------------------------------------------------------------------------------"
   ]
  }
 ],
 "metadata": {
  "kernelspec": {
   "display_name": "Python 3",
   "language": "python",
   "name": "python3"
  },
  "language_info": {
   "codemirror_mode": {
    "name": "ipython",
    "version": 3
   },
   "file_extension": ".py",
   "mimetype": "text/x-python",
   "name": "python",
   "nbconvert_exporter": "python",
   "pygments_lexer": "ipython3",
   "version": "3.9.0"
  }
 },
 "nbformat": 4,
 "nbformat_minor": 5
}
